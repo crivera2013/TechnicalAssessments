{
 "cells": [
  {
   "cell_type": "markdown",
   "metadata": {},
   "source": [
    "# Data Engineer Technical Assessment Questions\n",
    "\n",
    "For this assessment, there are four questions below that cover the following topics:\n",
    "1. Data Structures\n",
    "2. Machine Learning\n",
    "3. SQL\n",
    "4. Data Visualization\n",
    "\n",
    "\n",
    "Please answer the questions and return your results within 1 week as a zip file, **\"candidate_name_AI_ML_engineer_assessment\"** (ex:  *donald_duck_AI_ML_engineer_assessment.zip*).'\n",
    "\n",
    "\n",
    "Candidates who pass the technical assignment, will also need to explain their submissions during the in-person interviews."
   ]
  },
  {
   "cell_type": "markdown",
   "metadata": {},
   "source": [
    "## Data Structures Question\n",
    "### Part A:\n",
    "Write a function that takes as input a list of up to 1 million random integers and returns the number of unique integers in that list.\n",
    "We are most interested in hearing your thoughts and ideas, more so than a perfect response of code.  As such, please show us your own implementation rather than something already existing and please avoid built-in evaluation expressions (No `len(set(inputs))` ).\n",
    "\n",
    "Sample input : Sample output:\n",
    "\n",
    "        [1, 2, 0] : 3\n",
    "\n",
    "        [4, 1, 3, 4, 2, 3, 4] : 4\n",
    "\n",
    "\n",
    "### Part B:\n",
    "Can part A be done with `O(1)` auxiliary space (i.e. using only a constant amount of additional\n",
    "memory)? If so, write a function that does it. If not, why not?\n",
    "\n",
    "Write all of your code in the language of your choice in a file called `DataStructures.py` (or other file extension).\n",
    "\n",
    "\n",
    "## Machine Learning Question\n",
    "Without the aid of any ML packages, please code a Decision Tree algorithm.  You may use packages lke **NumPy** or other vectorization packages but you cannot use packages like **SciKit-Learn**.  Attached is starter code, `decisionTree.py` where you are expected to complete the `DecisionTree` class by completing the functions:\n",
    "- `DecisionTree.train( train_x, train_y, min_leaf_size=10)`\n",
    "- `DecisionTree.predict(test_x)`\n",
    "\n",
    "Your decision tree will have only one hyperparameter, `min_leaf_size`, that determines the minimum number of records in a given leaf node necessary for it to branch off into child leaf nodes.  The logic for how your tree determines what variable and value a given node splits is up to you as well as what value an end leaf node should return (average output of the records? median? or another metric of your choosing).  \n",
    "Your code is expected to run without error when `decisionTree.py` and will be assessed on two metrics for each of the 4 test cases:\n",
    "1. The root mean squared error of the model outputs\n",
    "2. Training speed of the models\n",
    "\n",
    "\n",
    "## SQL question\n",
    "- Go to https://modeanalytics.com  and create a free account\n",
    "- Open a SQL editor, and on the right search for a database called **tutorial.dc bikeshare q1 2012**\n",
    "- Using that SQL table, determine what was the longest amount of time a single bike has gone without being ridden between rides\n",
    "- Provide the bike ID and the amount of time in the file `SQLanswers.txt` \n",
    "- Copy the SQL query used to procure that answer into the file `bikeQuery.sql`\n",
    "\n",
    "\n",
    "## Data Visualization Question\n",
    "Given the datasets found in the github project below on the 2019 Womens World Cup, create **2-3 visualizations (charts and/or tables)** that you believe display an interesting story (or stories) from the tournament dataset.  Provide the code for cleaning and creating the visualizations into a file called `visualizationGenerator.py` (or in another language if you wish).  The visualizations can be individual image files or embedded in a jupyter notebook or similar tools.\n",
    "\n",
    "- [2019 Womens World Cup found here](https://github.com/rfordatascience/tidytuesday/tree/master/data/2019/2019-07-09)\n",
    "\n",
    "Your visualizations will be assessed on 3 metrics:\n",
    "1. Ease of Understanding\n",
    "2. Degree of Difficulty\n",
    "3. Aesthetic Appeal\n",
    "\n",
    "## Data Processing Question\n",
    "On your own machine, install Spark and create a jupyter notebook environment.  In either Scala or PySpark, load in the attached csv file and complete the following data cleaning task.  You will analyze `bitcoinotc.csv`.  This graph is a who-trusts-whom network of people who trade using Bitcoin on a platform called Bitcoin OTC. The dataset has three columns in the following format:\n",
    "1. Source Node\n",
    "2. Target Node \n",
    "3. Edge Weight\n",
    "\n",
    "The weighted-in-degree of a node is the sum of weights of all the incoming edges to a node. The weighted-out-degree is the sum of weights of all the outgoing edges from a node. Lastly, the weighted-total-degree of a node is the sum of its weighted-in-degree and its weighted-out-degree.\n",
    "\n",
    "You will need to:\n",
    "1. Eliminate duplicate edges\n",
    "2. Filter the graph edges to remove any edge whose edge weight is less than 5\n",
    "3. Find the node with highest weighted-in-degree, highest weighted-out-degree, and highest weighted-total-degree\n",
    "4. Download your results into a csv file called \"`graphResults.csv`\" in the following format:\n",
    "\n",
    "| Vertex ID | Weighted Degree Sum | Type                |\n",
    "|-----------|---------------------|---------------------|\n",
    "| 4         | 50                  | Weighted In-Degree  |\n",
    "| 7         | 45                  | Weighted Out-Degree |\n",
    "| 2         | 75                  | Total               |\n",
    "\n",
    "5. Export your Jupyter notebook into a `.py` or `.scala` file called `graphProcessing.py` or `graphProcessing.scala`\n"
   ]
  },
  {
   "cell_type": "markdown",
   "metadata": {},
   "source": [
    "# Submission\n",
    "For submission, the file directory should look like this:\n",
    "\n",
    "```\n",
    "<_candidate_name>_<_position>_assessment\n",
    "│   AL-ML Technical Assessment.html\n",
    "│       \n",
    "└───DataStructures\n",
    "│   │   DataStructures.py\n",
    "│       \n",
    "└───MachineLearning\n",
    "│   │   decisionTree.py\n",
    "│   │   winequality-white.csv\n",
    "│     \n",
    "└───SQL\n",
    "│   │   SQLanswers.txt\n",
    "│   │   bikeQuery.sql\n",
    "│     \n",
    "└───DataVisualization\n",
    "│   │   visualizationGenerator.py\n",
    "│   │   image1.png, image2.png, image3.png (or notebook)\n",
    "\n",
    "```"
   ]
  },
  {
   "cell_type": "code",
   "execution_count": 1,
   "metadata": {},
   "outputs": [
    {
     "name": "stdout",
     "output_type": "stream",
     "text": [
      "hello\n"
     ]
    }
   ],
   "source": [
    "print(\"hello\")"
   ]
  },
  {
   "cell_type": "code",
   "execution_count": null,
   "metadata": {},
   "outputs": [],
   "source": []
  }
 ],
 "metadata": {
  "kernelspec": {
   "display_name": "Python 3 (ipykernel)",
   "language": "python",
   "name": "python3"
  },
  "language_info": {
   "codemirror_mode": {
    "name": "ipython",
    "version": 3
   },
   "file_extension": ".py",
   "mimetype": "text/x-python",
   "name": "python",
   "nbconvert_exporter": "python",
   "pygments_lexer": "ipython3",
   "version": "3.9.10"
  }
 },
 "nbformat": 4,
 "nbformat_minor": 4
}
